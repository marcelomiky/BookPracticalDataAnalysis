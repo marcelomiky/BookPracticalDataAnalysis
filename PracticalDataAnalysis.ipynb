{
 "cells": [
  {
   "cell_type": "markdown",
   "metadata": {
    "deletable": true,
    "editable": true
   },
   "source": [
    "#### The data analysis process is composed of the following steps:\n",
    "\n",
    "* The statement of problem\n",
    "* Obtain your data\n",
    "* Clean the data\n",
    "* Normalize the data\n",
    "* Transform the data\n",
    "* Exploratory statistics\n",
    "* Exploratory visualization\n",
    "* Predictive modeling\n",
    "* Validate your model\n",
    "* Visualize and interpret your results\n",
    "* Deploy your solution"
   ]
  },
  {
   "cell_type": "markdown",
   "metadata": {
    "deletable": true,
    "editable": true
   },
   "source": [
    "Data analysis process grouped:"
   ]
  },
  {
   "cell_type": "markdown",
   "metadata": {
    "deletable": true,
    "editable": true
   },
   "source": [
    "<img src=\"dataanalysis1.png\">"
   ]
  },
  {
   "cell_type": "markdown",
   "metadata": {
    "deletable": true,
    "editable": true
   },
   "source": [
    "#### Open data\n",
    "\n",
    "Open data is data that can be used, re-use, and redistributed freely by anyone for any purpose. Following is a short list of repositories and databases for open data:\n",
    "\n",
    "* Datahub is available at http://datahub.io/\n",
    "* Book-Crossing Dataset is available at http://www.informatik.uni-freiburg.de/~cziegler/BX/\n",
    "* World Health Organization is available at http://www.who.int/research/en/\n",
    "* The World Bank is available at http://data.worldbank.org/\n",
    "* NASA is available at http://data.nasa.gov/\n",
    "* United States Government is available at http://www.data.gov/\n",
    "* Machine Learning Datasets is available at http://bitly.com/bundles/bigmlcom/2\n",
    "* Scientific Data from University of Muenster is available at http://data.uni-muenster.de/\n",
    "* Hilary Mason research-quality datasets is available at https://bitly.com/bundles/hmason/1"
   ]
  },
  {
   "cell_type": "markdown",
   "metadata": {
    "deletable": true,
    "editable": true
   },
   "source": [
    "# Chapter 2 - Working with Data"
   ]
  },
  {
   "cell_type": "markdown",
   "metadata": {
    "collapsed": false,
    "deletable": true,
    "editable": true
   },
   "source": [
    "# Text parsing"
   ]
  },
  {
   "cell_type": "code",
   "execution_count": 7,
   "metadata": {
    "collapsed": false,
    "deletable": true,
    "editable": true
   },
   "outputs": [],
   "source": [
    "import re"
   ]
  },
  {
   "cell_type": "markdown",
   "metadata": {
    "collapsed": false,
    "deletable": true,
    "editable": true
   },
   "source": [
    "In the following examples, we will implement three of the most common validations\n",
    "(e-mail, IP address, and date format).\n",
    "\n",
    "E-mail validation:"
   ]
  },
  {
   "cell_type": "code",
   "execution_count": 9,
   "metadata": {
    "collapsed": false,
    "deletable": true,
    "editable": true
   },
   "outputs": [
    {
     "name": "stdout",
     "output_type": "stream",
     "text": [
      "readers@packt.com\n",
      "readers\n",
      "packt.com\n"
     ]
    }
   ],
   "source": [
    "myString = 'From: readers@packt.com (readers email)'\n",
    "result = re.search('([\\w.-]+)@([\\w.-]+)', myString)\n",
    "if result:\n",
    "    print (result.group(0))\n",
    "    print (result.group(1))\n",
    "    print (result.group(2))"
   ]
  },
  {
   "cell_type": "markdown",
   "metadata": {
    "collapsed": false,
    "deletable": true,
    "editable": true
   },
   "source": [
    "The function search() scans through a string, searching for any location\n",
    "where the regex might match. The function group() helps us to return the\n",
    "string matched by the regex. The pattern \\w matches any alphanumeric\n",
    "character and is equivalent to the class (a-z, A-Z, 0-9_).\n",
    "\n",
    "IP address validation:"
   ]
  },
  {
   "cell_type": "code",
   "execution_count": 10,
   "metadata": {
    "collapsed": false,
    "deletable": true,
    "editable": true
   },
   "outputs": [
    {
     "name": "stdout",
     "output_type": "stream",
     "text": [
      "['192.168.1.254']\n"
     ]
    }
   ],
   "source": [
    "isIP = re.compile('\\d{1,3}\\.\\d{1,3}\\.\\d{1,3}\\.\\d{1,3}')\n",
    "myString = \" Your IP is: 192.168.1.254 \"\n",
    "result = re.findall(isIP,myString)\n",
    "print(result)"
   ]
  },
  {
   "cell_type": "markdown",
   "metadata": {
    "collapsed": true,
    "deletable": true,
    "editable": true
   },
   "source": [
    "The function findall() finds all the substrings where the regex matches,\n",
    "and returns them as a list. The pattern \\d matches any decimal digit, is\n",
    "equivalent to the class [0-9] .\n",
    "\n",
    "Date format:"
   ]
  },
  {
   "cell_type": "code",
   "execution_count": 30,
   "metadata": {
    "collapsed": false,
    "deletable": true,
    "editable": true
   },
   "outputs": [
    {
     "name": "stdout",
     "output_type": "stream",
     "text": [
      "valid\n"
     ]
    }
   ],
   "source": [
    "myString = \"01/04/2001\"\n",
    "isDate = re.match('[0-3][0-9]\\/[0-3][0-9]\\/[1-2][0-9]{3}',myString)\n",
    "if isDate:\n",
    "    print(\"valid\")\n",
    "else:\n",
    "    print(\"invalid\")"
   ]
  },
  {
   "cell_type": "markdown",
   "metadata": {
    "collapsed": true,
    "deletable": true,
    "editable": true
   },
   "source": [
    "The function match() finds if the regex matches with the string. The pattern\n",
    "implements the class [0-9] in order to parse the date format."
   ]
  },
  {
   "cell_type": "markdown",
   "metadata": {
    "collapsed": true,
    "deletable": true,
    "editable": true
   },
   "source": [
    "# Data transformation"
   ]
  },
  {
   "cell_type": "markdown",
   "metadata": {
    "deletable": true,
    "editable": true
   },
   "source": [
    "Extract, Transform, and Load (ETL) obtains data from datasources, performs some transformation function depending on our data model and loads the result data into destination."
   ]
  },
  {
   "cell_type": "markdown",
   "metadata": {
    "deletable": true,
    "editable": true
   },
   "source": [
    "## Parsing a CSV file with the csv module"
   ]
  },
  {
   "cell_type": "code",
   "execution_count": 6,
   "metadata": {
    "collapsed": true,
    "deletable": true,
    "editable": true
   },
   "outputs": [],
   "source": [
    "import csv"
   ]
  },
  {
   "cell_type": "markdown",
   "metadata": {
    "deletable": true,
    "editable": true
   },
   "source": [
    " The first eight records of the CSV file ( pokemon.csv ) look as follows:\n",
    " \n",
    " ```\n",
    " id, typeTwo, name, type\n",
    " 001, Poison, Bulbasaur, Grass\n",
    " 002, Poison, Ivysaur, Grass\n",
    " 003, Poison, Venusaur, Grass\n",
    " 006, Flying, Charizard, Fire\n",
    " 012, Flying, Butterfree, Bug\n",
    " 013, Poison, Weedle, Bug\n",
    " 014, Poison, Kakuna, Bug\n",
    " 015, Poison, Beedrill, Bug\n",
    " ```"
   ]
  },
  {
   "cell_type": "code",
   "execution_count": 9,
   "metadata": {
    "collapsed": false,
    "deletable": true,
    "editable": true
   },
   "outputs": [
    {
     "name": "stdout",
     "output_type": "stream",
     "text": [
      "id:  001, typeTwo:  Poison, name:  Bulbasaur, type:  Grass\n",
      "id:  002, typeTwo:  Poison, name:  Ivysaur, type:  Grass\n",
      "id:  003, typeTwo:  Poison, name:  Venusaur, type:  Grass\n",
      "id:  006, typeTwo:  Flying, name:  Charizard, type:  Fire\n",
      "id:  012, typeTwo:  Flying, name:  Butterfree, type:  Bug\n",
      "id:  013, typeTwo:  Poison, name:  Weedle, type:  Bug\n",
      "id:  014, typeTwo:  Poison, name:  Kakuna, type:  Bug\n",
      "id:  015, typeTwo:  Poison, name:  Beedrill, type:  Bug\n"
     ]
    }
   ],
   "source": [
    "with open(\"pokemon.csv\") as f: #csv file with 8 lines only\n",
    "    data = csv.reader(f)\n",
    "    #Now we just iterate over the reader \n",
    "    next(f) #jump first line\n",
    "    for line in data: \n",
    "        print(\"id: {0}, typeTwo: {1}, name: {2}, type: {3}\"\n",
    "              .format(line[0],line[1],line[2],line[3]))"
   ]
  },
  {
   "cell_type": "markdown",
   "metadata": {
    "collapsed": true,
    "deletable": true,
    "editable": true
   },
   "source": [
    "## Parsing a CSV file using NumPy"
   ]
  },
  {
   "cell_type": "code",
   "execution_count": 12,
   "metadata": {
    "collapsed": false,
    "deletable": true,
    "editable": true
   },
   "outputs": [],
   "source": [
    "import numpy as np"
   ]
  },
  {
   "cell_type": "markdown",
   "metadata": {
    "collapsed": true,
    "deletable": true,
    "editable": true
   },
   "source": [
    "NumPy provides us with the ```genfromtxt``` function, which receives four parameters. First, we need to provide the name of the file ```pokemon.csv```. Then we skip first line as a header (```skip_header```). Next we need to specify the data type (```dtype```). Finally, we will define the comma as the delimiter."
   ]
  },
  {
   "cell_type": "code",
   "execution_count": 14,
   "metadata": {
    "collapsed": true,
    "deletable": true,
    "editable": true
   },
   "outputs": [],
   "source": [
    "data = np.genfromtxt(\"pokemon.csv\", skip_header=1, dtype=None, delimiter=',')"
   ]
  },
  {
   "cell_type": "code",
   "execution_count": 15,
   "metadata": {
    "collapsed": false,
    "deletable": true,
    "editable": true
   },
   "outputs": [
    {
     "name": "stdout",
     "output_type": "stream",
     "text": [
      "[( 1, b' Poison', b' Bulbasaur', b' Grass')\n",
      " ( 2, b' Poison', b' Ivysaur', b' Grass')\n",
      " ( 3, b' Poison', b' Venusaur', b' Grass')\n",
      " ( 6, b' Flying', b' Charizard', b' Fire')\n",
      " (12, b' Flying', b' Butterfree', b' Bug')\n",
      " (13, b' Poison', b' Weedle', b' Bug')\n",
      " (14, b' Poison', b' Kakuna', b' Bug')\n",
      " (15, b' Poison', b' Beedrill', b' Bug')]\n"
     ]
    }
   ],
   "source": [
    "print(data)"
   ]
  },
  {
   "cell_type": "markdown",
   "metadata": {
    "collapsed": true,
    "deletable": true,
    "editable": true
   },
   "source": [
    "## Parsing a JSON file using json module"
   ]
  },
  {
   "cell_type": "code",
   "execution_count": 16,
   "metadata": {
    "collapsed": true,
    "deletable": true,
    "editable": true
   },
   "outputs": [],
   "source": [
    "import json\n",
    "from pprint import pprint"
   ]
  },
  {
   "cell_type": "code",
   "execution_count": 20,
   "metadata": {
    "collapsed": false,
    "deletable": true,
    "editable": true
   },
   "outputs": [],
   "source": [
    "with open(\"pokemon.json\") as f:\n",
    "    data = json.loads(f.read())"
   ]
  },
  {
   "cell_type": "code",
   "execution_count": 21,
   "metadata": {
    "collapsed": false,
    "deletable": true,
    "editable": true
   },
   "outputs": [
    {
     "name": "stdout",
     "output_type": "stream",
     "text": [
      "[{'id': '001', 'name': 'Bulbasaur', 'type': 'Grass', 'typeTwo': 'Poison'},\n",
      " {'id': '002', 'name': 'Ivysaur', 'type': 'Grass', 'typeTwo': 'Poison'},\n",
      " {'id': '003', 'name': 'Venusaur', 'type': 'Grass', 'typeTwo': 'Poison'},\n",
      " {'id': '006', 'name': 'Charizard', 'type': 'Fire', 'typeTwo': 'Flying'},\n",
      " {'id': '012', 'name': 'Butterfree', 'type': 'Bug', 'typeTwo': 'Flying'},\n",
      " {'id': '013', 'name': 'Weedle', 'type': 'Bug', 'typeTwo': 'Poison'},\n",
      " {'id': '014', 'name': 'Kakuna', 'type': 'Bug', 'typeTwo': 'Poison'},\n",
      " {'id': '015', 'name': 'Beedrill', 'type': 'Bug', 'typeTwo': 'Poison'}]\n"
     ]
    }
   ],
   "source": [
    "pprint(data)"
   ]
  },
  {
   "cell_type": "markdown",
   "metadata": {
    "collapsed": true,
    "deletable": true,
    "editable": true
   },
   "source": [
    "# XML"
   ]
  },
  {
   "cell_type": "markdown",
   "metadata": {
    "collapsed": true,
    "deletable": true,
    "editable": true
   },
   "source": [
    "Parsing an XML file in Python using xml module"
   ]
  },
  {
   "cell_type": "code",
   "execution_count": 23,
   "metadata": {
    "collapsed": true,
    "deletable": true,
    "editable": true
   },
   "outputs": [],
   "source": [
    "from xml.etree import ElementTree"
   ]
  },
  {
   "cell_type": "code",
   "execution_count": 24,
   "metadata": {
    "collapsed": true,
    "deletable": true,
    "editable": true
   },
   "outputs": [],
   "source": [
    "with open(\"pokemom.xml\") as f:\n",
    "    doc = ElementTree.parse(f)"
   ]
  },
  {
   "cell_type": "code",
   "execution_count": 26,
   "metadata": {
    "collapsed": false,
    "deletable": true,
    "editable": true
   },
   "outputs": [
    {
     "name": "stdout",
     "output_type": "stream",
     "text": [
      "\n",
      "id:       001\n",
      "typeTwo:  Poison\n",
      "name:     Bulbasaur\n",
      "type:     Grass\n",
      "\n",
      "id:       002\n",
      "typeTwo:  Poison\n",
      "name:     Ivysaur\n",
      "type:     Grass\n",
      "\n",
      "id:       003\n",
      "typeTwo:  Poison\n",
      "name:     Venusaur\n",
      "type:     Grass\n",
      "\n",
      "id:       006\n",
      "typeTwo:  Flying\n",
      "name:     Charizard\n",
      "type:     Fire\n",
      "\n",
      "id:       012\n",
      "typeTwo:  Flying\n",
      "name:     Butterfree\n",
      "type:     Bug\n",
      "\n",
      "id:       013\n",
      "typeTwo:  Poison\n",
      "name:     Weedle\n",
      "type:     Bug\n",
      "\n",
      "id:       014\n",
      "typeTwo:  Poison\n",
      "name:     Kakuna\n",
      "type:     Bug\n",
      "\n",
      "id:       015\n",
      "typeTwo:  Poison\n",
      "name:     Beedrill\n",
      "type:     Bug\n"
     ]
    }
   ],
   "source": [
    "for node in doc.findall('row'):\n",
    "    print(\"\")\n",
    "    print(\"id:      {0}\".format(node.find('id').text))\n",
    "    print(\"typeTwo: {0}\".format(node.find('typeTwo').text))\n",
    "    print(\"name:    {0}\".format(node.find('name').text))\n",
    "    print(\"type:    {0}\".format(node.find('type').text))"
   ]
  },
  {
   "cell_type": "markdown",
   "metadata": {
    "collapsed": true,
    "deletable": true,
    "editable": true
   },
   "source": [
    "# Chapter 3 - Data Visualization"
   ]
  },
  {
   "cell_type": "markdown",
   "metadata": {
    "collapsed": true,
    "deletable": true,
    "editable": true
   },
   "source": [
    "In the basic examples, we can just open our HTML document in a web browser to view it. But when we need to load external data sources, we need to publish the folder on a web server such as Apache, nginx, or IIS. Python provides us with an easy way to run a web server with **http.server** ; we just need to open the folder where our D3 files are present and execute the following command in the terminal."
   ]
  },
  {
   "cell_type": "code",
   "execution_count": 2,
   "metadata": {
    "collapsed": false,
    "deletable": true,
    "editable": true
   },
   "outputs": [],
   "source": [
    "#python3 –m http.server 8000"
   ]
  },
  {
   "cell_type": "markdown",
   "metadata": {
    "collapsed": true,
    "deletable": true,
    "editable": true
   },
   "source": [
    "### Bar chart"
   ]
  },
  {
   "cell_type": "code",
   "execution_count": 1,
   "metadata": {
    "collapsed": true,
    "deletable": true,
    "editable": true
   },
   "outputs": [],
   "source": [
    "# We need to import the necessary modules.\n",
    "import json\n",
    "import csv\n",
    "from pprint import pprint"
   ]
  },
  {
   "cell_type": "code",
   "execution_count": 2,
   "metadata": {
    "collapsed": false,
    "deletable": true,
    "editable": true
   },
   "outputs": [],
   "source": [
    "#Now, we define a dictionary to store the result\n",
    "typePokemon = {}\n",
    "#Open and load the JSON file.\n",
    "with open(\"pokemon.json\") as f:\n",
    "    data = json.loads(f.read())\n",
    "    \n",
    "    #Fill the typePokemon dictionary with sum of pokemon by type\n",
    "    for line in data:\n",
    "        if line[\"type\"] not in typePokemon:\n",
    "            typePokemon[line[\"type\"]] = 1\n",
    "        else:\n",
    "            typePokemon[line[\"type\"]]=typePokemon.get(line[\"type\"])+1"
   ]
  },
  {
   "cell_type": "code",
   "execution_count": 12,
   "metadata": {
    "collapsed": false,
    "deletable": true,
    "editable": true
   },
   "outputs": [],
   "source": [
    "#Open in a write mode the sumPokemon.csv file\n",
    "with open(\"sumPokemon.csv\", \"w\") as a:\n",
    "    w = csv.writer(a)\n",
    "    \n",
    "#Sort the dictionary by the NAME of pokemon\n",
    "#writes the result (type and amount) into the csv file\n",
    "    for key, value in sorted(typePokemon.items(), key=lambda x: x[1]):\n",
    "        w.writerow([key,str(value)])"
   ]
  },
  {
   "cell_type": "code",
   "execution_count": 13,
   "metadata": {
    "collapsed": false,
    "deletable": true,
    "editable": true
   },
   "outputs": [
    {
     "name": "stdout",
     "output_type": "stream",
     "text": [
      "{' Bug': 45,\n",
      " ' Dark': 16,\n",
      " ' Dragon': 12,\n",
      " ' Electric': 7,\n",
      " ' Fighting': 3,\n",
      " ' Fire': 14,\n",
      " ' Ghost': 10,\n",
      " ' Grass': 31,\n",
      " ' Ground': 17,\n",
      " ' Ice': 11,\n",
      " ' Normal': 29,\n",
      " ' Poison': 11,\n",
      " ' Psychic': 9,\n",
      " ' Rock': 24,\n",
      " ' Steel': 13,\n",
      " ' Water': 45}\n"
     ]
    }
   ],
   "source": [
    "#finally, we use \"pretty print\" to print the dictionary\n",
    "pprint(typePokemon)"
   ]
  },
  {
   "cell_type": "code",
   "execution_count": 14,
   "metadata": {
    "collapsed": false,
    "deletable": true,
    "editable": true
   },
   "outputs": [
    {
     "data": {
      "text/plain": [
       "dict_items([(' Poison', 11), (' Psychic', 9), (' Fire', 14), (' Bug', 45), (' Electric', 7), (' Dark', 16), (' Normal', 29), (' Steel', 13), (' Grass', 31), (' Water', 45), (' Rock', 24), (' Fighting', 3), (' Dragon', 12), (' Ground', 17), (' Ice', 11), (' Ghost', 10)])"
      ]
     },
     "execution_count": 14,
     "metadata": {},
     "output_type": "execute_result"
    }
   ],
   "source": [
    "typePokemon.items()"
   ]
  },
  {
   "cell_type": "code",
   "execution_count": 15,
   "metadata": {
    "collapsed": false,
    "deletable": true,
    "editable": true
   },
   "outputs": [
    {
     "data": {
      "text/plain": [
       "dict_keys([' Poison', ' Psychic', ' Fire', ' Bug', ' Electric', ' Dark', ' Normal', ' Steel', ' Grass', ' Water', ' Rock', ' Fighting', ' Dragon', ' Ground', ' Ice', ' Ghost'])"
      ]
     },
     "execution_count": 15,
     "metadata": {},
     "output_type": "execute_result"
    }
   ],
   "source": [
    "typePokemon.keys()"
   ]
  },
  {
   "cell_type": "code",
   "execution_count": 16,
   "metadata": {
    "collapsed": false,
    "deletable": true,
    "editable": true
   },
   "outputs": [
    {
     "data": {
      "text/plain": [
       "dict_values([11, 9, 14, 45, 7, 16, 29, 13, 31, 45, 24, 3, 12, 17, 11, 10])"
      ]
     },
     "execution_count": 16,
     "metadata": {},
     "output_type": "execute_result"
    }
   ],
   "source": [
    "typePokemon.values()"
   ]
  },
  {
   "cell_type": "code",
   "execution_count": 19,
   "metadata": {
    "collapsed": false,
    "deletable": true,
    "editable": true
   },
   "outputs": [
    {
     "ename": "TypeError",
     "evalue": "'int' object is not subscriptable",
     "output_type": "error",
     "traceback": [
      "\u001b[0;31m---------------------------------------------------------------------------\u001b[0m",
      "\u001b[0;31mTypeError\u001b[0m                                 Traceback (most recent call last)",
      "\u001b[0;32m<ipython-input-19-be2ab7a7438d>\u001b[0m in \u001b[0;36m<module>\u001b[0;34m()\u001b[0m\n\u001b[1;32m      5\u001b[0m \u001b[0;31m#Sort the dictionary by number of pokemon\u001b[0m\u001b[0;34m\u001b[0m\u001b[0;34m\u001b[0m\u001b[0m\n\u001b[1;32m      6\u001b[0m \u001b[0;31m#writes the result (type and amount) into the csv file\u001b[0m\u001b[0;34m\u001b[0m\u001b[0;34m\u001b[0m\u001b[0m\n\u001b[0;32m----> 7\u001b[0;31m     \u001b[0;32mfor\u001b[0m \u001b[0mkey\u001b[0m\u001b[0;34m,\u001b[0m \u001b[0mvalue\u001b[0m \u001b[0;32min\u001b[0m \u001b[0msorted\u001b[0m\u001b[0;34m(\u001b[0m\u001b[0mtypePokemon\u001b[0m\u001b[0;34m.\u001b[0m\u001b[0mvalues\u001b[0m\u001b[0;34m(\u001b[0m\u001b[0;34m)\u001b[0m\u001b[0;34m,\u001b[0m \u001b[0mkey\u001b[0m\u001b[0;34m=\u001b[0m\u001b[0;32mlambda\u001b[0m \u001b[0mx\u001b[0m\u001b[0;34m:\u001b[0m \u001b[0mx\u001b[0m\u001b[0;34m[\u001b[0m\u001b[0;36m1\u001b[0m\u001b[0;34m]\u001b[0m\u001b[0;34m)\u001b[0m\u001b[0;34m:\u001b[0m\u001b[0;34m\u001b[0m\u001b[0m\n\u001b[0m\u001b[1;32m      8\u001b[0m         \u001b[0mw\u001b[0m\u001b[0;34m.\u001b[0m\u001b[0mwriterow\u001b[0m\u001b[0;34m(\u001b[0m\u001b[0;34m[\u001b[0m\u001b[0mkey\u001b[0m\u001b[0;34m,\u001b[0m\u001b[0mstr\u001b[0m\u001b[0;34m(\u001b[0m\u001b[0mvalue\u001b[0m\u001b[0;34m)\u001b[0m\u001b[0;34m]\u001b[0m\u001b[0;34m)\u001b[0m\u001b[0;34m\u001b[0m\u001b[0m\n\u001b[1;32m      9\u001b[0m \u001b[0;34m\u001b[0m\u001b[0m\n",
      "\u001b[0;32m<ipython-input-19-be2ab7a7438d>\u001b[0m in \u001b[0;36m<lambda>\u001b[0;34m(x)\u001b[0m\n\u001b[1;32m      5\u001b[0m \u001b[0;31m#Sort the dictionary by number of pokemon\u001b[0m\u001b[0;34m\u001b[0m\u001b[0;34m\u001b[0m\u001b[0m\n\u001b[1;32m      6\u001b[0m \u001b[0;31m#writes the result (type and amount) into the csv file\u001b[0m\u001b[0;34m\u001b[0m\u001b[0;34m\u001b[0m\u001b[0m\n\u001b[0;32m----> 7\u001b[0;31m     \u001b[0;32mfor\u001b[0m \u001b[0mkey\u001b[0m\u001b[0;34m,\u001b[0m \u001b[0mvalue\u001b[0m \u001b[0;32min\u001b[0m \u001b[0msorted\u001b[0m\u001b[0;34m(\u001b[0m\u001b[0mtypePokemon\u001b[0m\u001b[0;34m.\u001b[0m\u001b[0mvalues\u001b[0m\u001b[0;34m(\u001b[0m\u001b[0;34m)\u001b[0m\u001b[0;34m,\u001b[0m \u001b[0mkey\u001b[0m\u001b[0;34m=\u001b[0m\u001b[0;32mlambda\u001b[0m \u001b[0mx\u001b[0m\u001b[0;34m:\u001b[0m \u001b[0mx\u001b[0m\u001b[0;34m[\u001b[0m\u001b[0;36m1\u001b[0m\u001b[0;34m]\u001b[0m\u001b[0;34m)\u001b[0m\u001b[0;34m:\u001b[0m\u001b[0;34m\u001b[0m\u001b[0m\n\u001b[0m\u001b[1;32m      8\u001b[0m         \u001b[0mw\u001b[0m\u001b[0;34m.\u001b[0m\u001b[0mwriterow\u001b[0m\u001b[0;34m(\u001b[0m\u001b[0;34m[\u001b[0m\u001b[0mkey\u001b[0m\u001b[0;34m,\u001b[0m\u001b[0mstr\u001b[0m\u001b[0;34m(\u001b[0m\u001b[0mvalue\u001b[0m\u001b[0;34m)\u001b[0m\u001b[0;34m]\u001b[0m\u001b[0;34m)\u001b[0m\u001b[0;34m\u001b[0m\u001b[0m\n\u001b[1;32m      9\u001b[0m \u001b[0;34m\u001b[0m\u001b[0m\n",
      "\u001b[0;31mTypeError\u001b[0m: 'int' object is not subscriptable"
     ]
    }
   ],
   "source": [
    "#Open in a write mode the sumPokemon.csv file\n",
    "with open(\"sumPokemon.csv\", \"w\") as a:\n",
    "    w = csv.writer(a)\n",
    "    \n",
    "#Sort the dictionary by number of pokemon\n",
    "#writes the result (type and amount) into the csv file\n",
    "    for key, value in sorted(typePokemon.values(), key=lambda x: x[1]):\n",
    "        w.writerow([key,str(value)])\n",
    "\n",
    "#finally, we use \"pretty print\" to print the dictionary\n",
    "pprint(typePokemon)"
   ]
  },
  {
   "cell_type": "code",
   "execution_count": null,
   "metadata": {
    "collapsed": true,
    "deletable": true,
    "editable": true
   },
   "outputs": [],
   "source": []
  },
  {
   "cell_type": "code",
   "execution_count": null,
   "metadata": {
    "collapsed": true,
    "deletable": true,
    "editable": true
   },
   "outputs": [],
   "source": []
  },
  {
   "cell_type": "code",
   "execution_count": null,
   "metadata": {
    "collapsed": true,
    "deletable": true,
    "editable": true
   },
   "outputs": [],
   "source": []
  },
  {
   "cell_type": "code",
   "execution_count": null,
   "metadata": {
    "collapsed": true,
    "deletable": true,
    "editable": true
   },
   "outputs": [],
   "source": []
  },
  {
   "cell_type": "code",
   "execution_count": null,
   "metadata": {
    "collapsed": true,
    "deletable": true,
    "editable": true
   },
   "outputs": [],
   "source": []
  }
 ],
 "metadata": {
  "kernelspec": {
   "display_name": "Python 3",
   "language": "python",
   "name": "python3"
  },
  "language_info": {
   "codemirror_mode": {
    "name": "ipython",
    "version": 3
   },
   "file_extension": ".py",
   "mimetype": "text/x-python",
   "name": "python",
   "nbconvert_exporter": "python",
   "pygments_lexer": "ipython3",
   "version": "3.5.2"
  }
 },
 "nbformat": 4,
 "nbformat_minor": 2
}
