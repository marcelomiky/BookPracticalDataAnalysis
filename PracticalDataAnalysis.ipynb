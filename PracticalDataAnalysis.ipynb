{
 "cells": [
  {
   "cell_type": "markdown",
   "metadata": {
    "deletable": true,
    "editable": true
   },
   "source": [
    "#### The data analysis process is composed of the following steps:\n",
    "\n",
    "* The statement of problem\n",
    "* Obtain your data\n",
    "* Clean the data\n",
    "* Normalize the data\n",
    "* Transform the data\n",
    "* Exploratory statistics\n",
    "* Exploratory visualization\n",
    "* Predictive modeling\n",
    "* Validate your model\n",
    "* Visualize and interpret your results\n",
    "* Deploy your solution"
   ]
  },
  {
   "cell_type": "markdown",
   "metadata": {
    "deletable": true,
    "editable": true
   },
   "source": [
    "Data analysis process grouped:"
   ]
  },
  {
   "cell_type": "markdown",
   "metadata": {
    "deletable": true,
    "editable": true
   },
   "source": [
    "<img src=\"dataanalysis1.png\">"
   ]
  },
  {
   "cell_type": "markdown",
   "metadata": {
    "deletable": true,
    "editable": true
   },
   "source": [
    "#### Open data\n",
    "\n",
    "Open data is data that can be used, re-use, and redistributed freely by anyone for any purpose. Following is a short list of repositories and databases for open data:\n",
    "\n",
    "* Datahub is available at http://datahub.io/\n",
    "* Book-Crossing Dataset is available at http://www.informatik.uni-freiburg.de/~cziegler/BX/\n",
    "* World Health Organization is available at http://www.who.int/research/en/\n",
    "* The World Bank is available at http://data.worldbank.org/\n",
    "* NASA is available at http://data.nasa.gov/\n",
    "* United States Government is available at http://www.data.gov/\n",
    "* Machine Learning Datasets is available at http://bitly.com/bundles/bigmlcom/2\n",
    "* Scientific Data from University of Muenster is available at http://data.uni-muenster.de/\n",
    "* Hilary Mason research-quality datasets is available at https://bitly.com/bundles/hmason/1"
   ]
  },
  {
   "cell_type": "markdown",
   "metadata": {
    "collapsed": false,
    "deletable": true,
    "editable": true
   },
   "source": [
    "# Text parsing"
   ]
  },
  {
   "cell_type": "code",
   "execution_count": 7,
   "metadata": {
    "collapsed": false,
    "deletable": true,
    "editable": true
   },
   "outputs": [],
   "source": [
    "import re"
   ]
  },
  {
   "cell_type": "markdown",
   "metadata": {
    "collapsed": false,
    "deletable": true,
    "editable": true
   },
   "source": [
    "In the following examples, we will implement three of the most common validations\n",
    "(e-mail, IP address, and date format).\n",
    "\n",
    "E-mail validation:"
   ]
  },
  {
   "cell_type": "code",
   "execution_count": 9,
   "metadata": {
    "collapsed": false,
    "deletable": true,
    "editable": true
   },
   "outputs": [
    {
     "name": "stdout",
     "output_type": "stream",
     "text": [
      "readers@packt.com\n",
      "readers\n",
      "packt.com\n"
     ]
    }
   ],
   "source": [
    "myString = 'From: readers@packt.com (readers email)'\n",
    "result = re.search('([\\w.-]+)@([\\w.-]+)', myString)\n",
    "if result:\n",
    "    print (result.group(0))\n",
    "    print (result.group(1))\n",
    "    print (result.group(2))"
   ]
  },
  {
   "cell_type": "markdown",
   "metadata": {
    "collapsed": false,
    "deletable": true,
    "editable": true
   },
   "source": [
    "The function search() scans through a string, searching for any location\n",
    "where the regex might match. The function group() helps us to return the\n",
    "string matched by the regex. The pattern \\w matches any alphanumeric\n",
    "character and is equivalent to the class (a-z, A-Z, 0-9_).\n",
    "\n",
    "IP address validation:"
   ]
  },
  {
   "cell_type": "code",
   "execution_count": 10,
   "metadata": {
    "collapsed": false,
    "deletable": true,
    "editable": true
   },
   "outputs": [
    {
     "name": "stdout",
     "output_type": "stream",
     "text": [
      "['192.168.1.254']\n"
     ]
    }
   ],
   "source": [
    "isIP = re.compile('\\d{1,3}\\.\\d{1,3}\\.\\d{1,3}\\.\\d{1,3}')\n",
    "myString = \" Your IP is: 192.168.1.254 \"\n",
    "result = re.findall(isIP,myString)\n",
    "print(result)"
   ]
  },
  {
   "cell_type": "markdown",
   "metadata": {
    "collapsed": true,
    "deletable": true,
    "editable": true
   },
   "source": [
    "The function findall() finds all the substrings where the regex matches,\n",
    "and returns them as a list. The pattern \\d matches any decimal digit, is\n",
    "equivalent to the class [0-9] .\n",
    "\n",
    "Date format:"
   ]
  },
  {
   "cell_type": "code",
   "execution_count": 30,
   "metadata": {
    "collapsed": false,
    "deletable": true,
    "editable": true
   },
   "outputs": [
    {
     "name": "stdout",
     "output_type": "stream",
     "text": [
      "valid\n"
     ]
    }
   ],
   "source": [
    "myString = \"01/04/2001\"\n",
    "isDate = re.match('[0-3][0-9]\\/[0-3][0-9]\\/[1-2][0-9]{3}',myString)\n",
    "if isDate:\n",
    "    print(\"valid\")\n",
    "else:\n",
    "    print(\"invalid\")"
   ]
  },
  {
   "cell_type": "markdown",
   "metadata": {
    "collapsed": true,
    "deletable": true,
    "editable": true
   },
   "source": [
    "The function match() finds if the regex matches with the string. The pattern\n",
    "implements the class [0-9] in order to parse the date format."
   ]
  },
  {
   "cell_type": "markdown",
   "metadata": {
    "collapsed": true,
    "deletable": true,
    "editable": true
   },
   "source": [
    "# Data transformation"
   ]
  },
  {
   "cell_type": "markdown",
   "metadata": {},
   "source": [
    "Extract, Transform, and Load (ETL) obtains data from datasources, performs some transformation function depending on our data model and loads the result data into destination."
   ]
  },
  {
   "cell_type": "markdown",
   "metadata": {},
   "source": [
    "Parsing a CSV file with the csv module"
   ]
  },
  {
   "cell_type": "code",
   "execution_count": 31,
   "metadata": {
    "collapsed": true
   },
   "outputs": [],
   "source": [
    "import csv"
   ]
  },
  {
   "cell_type": "code",
   "execution_count": 34,
   "metadata": {
    "collapsed": false
   },
   "outputs": [
    {
     "name": "stdout",
     "output_type": "stream",
     "text": [
      "id:  id, typeTwo:  typeTwo, name:  name, type:  type\n",
      "id:  001, typeTwo:  Poison, name:  Bulbasaur, type:  Grass\n",
      "id:  002, typeTwo:  Poison, name:  Ivysaur, type:  Grass\n",
      "id:  003, typeTwo:  Poison, name:  Venusaur, type:  Grass\n",
      "id:  006, typeTwo:  Flying, name:  Charizard, type:  Fire\n",
      "id:  012, typeTwo:  Flying, name:  Butterfree, type:  Bug\n",
      "id:  013, typeTwo:  Poison, name:  Weedle, type:  Bug\n",
      "id:  014, typeTwo:  Poison, name:  Kakuna, type:  Bug\n",
      "id:  015, typeTwo:  Poison, name:  Beedrill, type:  Bug\n"
     ]
    }
   ],
   "source": [
    "with open(\"pokemon.csv\") as f: #csv file with 8 lines only\n",
    "    data = csv.reader(f)\n",
    "    #Now we just iterate over the reader \n",
    "    \n",
    "    for line in data: \n",
    "        print(\"id: {0}, typeTwo: {1}, name: {2}, type: {3}\".format(line[0],line[1],line[2],line[3]))"
   ]
  },
  {
   "cell_type": "code",
   "execution_count": null,
   "metadata": {
    "collapsed": true
   },
   "outputs": [],
   "source": []
  },
  {
   "cell_type": "code",
   "execution_count": null,
   "metadata": {
    "collapsed": true
   },
   "outputs": [],
   "source": []
  },
  {
   "cell_type": "code",
   "execution_count": null,
   "metadata": {
    "collapsed": true
   },
   "outputs": [],
   "source": []
  },
  {
   "cell_type": "code",
   "execution_count": null,
   "metadata": {
    "collapsed": true
   },
   "outputs": [],
   "source": []
  },
  {
   "cell_type": "code",
   "execution_count": null,
   "metadata": {
    "collapsed": true
   },
   "outputs": [],
   "source": []
  },
  {
   "cell_type": "code",
   "execution_count": null,
   "metadata": {
    "collapsed": true
   },
   "outputs": [],
   "source": []
  },
  {
   "cell_type": "code",
   "execution_count": null,
   "metadata": {
    "collapsed": true
   },
   "outputs": [],
   "source": []
  },
  {
   "cell_type": "code",
   "execution_count": null,
   "metadata": {
    "collapsed": true
   },
   "outputs": [],
   "source": []
  },
  {
   "cell_type": "code",
   "execution_count": null,
   "metadata": {
    "collapsed": true
   },
   "outputs": [],
   "source": []
  },
  {
   "cell_type": "code",
   "execution_count": null,
   "metadata": {
    "collapsed": true
   },
   "outputs": [],
   "source": []
  },
  {
   "cell_type": "code",
   "execution_count": null,
   "metadata": {
    "collapsed": true
   },
   "outputs": [],
   "source": []
  },
  {
   "cell_type": "code",
   "execution_count": null,
   "metadata": {
    "collapsed": true
   },
   "outputs": [],
   "source": []
  },
  {
   "cell_type": "code",
   "execution_count": null,
   "metadata": {
    "collapsed": true
   },
   "outputs": [],
   "source": []
  },
  {
   "cell_type": "code",
   "execution_count": null,
   "metadata": {
    "collapsed": true
   },
   "outputs": [],
   "source": []
  },
  {
   "cell_type": "code",
   "execution_count": null,
   "metadata": {
    "collapsed": true
   },
   "outputs": [],
   "source": []
  },
  {
   "cell_type": "code",
   "execution_count": null,
   "metadata": {
    "collapsed": true
   },
   "outputs": [],
   "source": []
  },
  {
   "cell_type": "code",
   "execution_count": null,
   "metadata": {
    "collapsed": true
   },
   "outputs": [],
   "source": []
  },
  {
   "cell_type": "code",
   "execution_count": null,
   "metadata": {
    "collapsed": true
   },
   "outputs": [],
   "source": []
  },
  {
   "cell_type": "code",
   "execution_count": null,
   "metadata": {
    "collapsed": true
   },
   "outputs": [],
   "source": []
  },
  {
   "cell_type": "code",
   "execution_count": null,
   "metadata": {
    "collapsed": true
   },
   "outputs": [],
   "source": []
  },
  {
   "cell_type": "code",
   "execution_count": null,
   "metadata": {
    "collapsed": true
   },
   "outputs": [],
   "source": []
  },
  {
   "cell_type": "code",
   "execution_count": null,
   "metadata": {
    "collapsed": true
   },
   "outputs": [],
   "source": []
  },
  {
   "cell_type": "code",
   "execution_count": null,
   "metadata": {
    "collapsed": true
   },
   "outputs": [],
   "source": []
  },
  {
   "cell_type": "code",
   "execution_count": null,
   "metadata": {
    "collapsed": true
   },
   "outputs": [],
   "source": []
  },
  {
   "cell_type": "code",
   "execution_count": null,
   "metadata": {
    "collapsed": true
   },
   "outputs": [],
   "source": []
  },
  {
   "cell_type": "code",
   "execution_count": null,
   "metadata": {
    "collapsed": true
   },
   "outputs": [],
   "source": []
  },
  {
   "cell_type": "code",
   "execution_count": null,
   "metadata": {
    "collapsed": true
   },
   "outputs": [],
   "source": []
  }
 ],
 "metadata": {
  "kernelspec": {
   "display_name": "Python 3",
   "language": "python",
   "name": "python3"
  },
  "language_info": {
   "codemirror_mode": {
    "name": "ipython",
    "version": 3
   },
   "file_extension": ".py",
   "mimetype": "text/x-python",
   "name": "python",
   "nbconvert_exporter": "python",
   "pygments_lexer": "ipython3",
   "version": "3.5.2"
  }
 },
 "nbformat": 4,
 "nbformat_minor": 2
}
